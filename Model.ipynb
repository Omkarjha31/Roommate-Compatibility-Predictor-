{
 "cells": [
  {
   "cell_type": "markdown",
   "id": "6336f8af",
   "metadata": {},
   "source": [
    "# Import Required Libraries"
   ]
  },
  {
   "cell_type": "code",
   "execution_count": 2,
   "id": "6104039a",
   "metadata": {},
   "outputs": [],
   "source": [
    "import pandas as pd\n",
    "from sklearn.metrics.pairwise import cosine_similarity\n",
    "from sklearn.preprocessing import OneHotEncoder, MinMaxScaler\n",
    "from sklearn.compose import ColumnTransformer"
   ]
  },
  {
   "cell_type": "markdown",
   "id": "2fe7adab",
   "metadata": {},
   "source": [
    "# Load Data Function"
   ]
  },
  {
   "cell_type": "code",
   "execution_count": 3,
   "id": "b6429ee7",
   "metadata": {},
   "outputs": [],
   "source": [
    "def load_data(filepath):\n",
    "    return pd.read_csv(filepath)"
   ]
  },
  {
   "cell_type": "markdown",
   "id": "f8dec9fa",
   "metadata": {},
   "source": [
    "# Prepare Similarity Matrix"
   ]
  },
  {
   "cell_type": "code",
   "execution_count": 4,
   "id": "dbe05bae",
   "metadata": {},
   "outputs": [],
   "source": [
    "def prepare_similarity_matrix(df):\n",
    "    # Convert categorical preferences to numerical values\n",
    "    df['Smoking_Num'] = df['Okay with Smoking'].map({'Yes': 1, 'Maybe': 0.5, 'No': 0})\n",
    "    df['Visitors_Num'] = df['Okay with Visitors'].map({'Yes': 1, 'Maybe': 0.5, 'No': 0})\n",
    "    \n",
    "    # Define features to use for compatibility matching\n",
    "    features = ['Sleep Type', 'Cleanliness Importance', 'Social Type', \n",
    "                'Smoking_Num', 'Visitors_Num', 'Noise Tolerance', 'Annoying Habit']\n",
    "    \n",
    "    # Set up preprocessing pipeline\n",
    "    preprocessor = ColumnTransformer(\n",
    "        transformers=[\n",
    "            ('cat', OneHotEncoder(handle_unknown='ignore'), \n",
    "                ['Sleep Type', 'Social Type', 'Annoying Habit']),\n",
    "            ('num', MinMaxScaler(), \n",
    "                ['Cleanliness Importance', 'Smoking_Num', 'Visitors_Num', 'Noise Tolerance'])\n",
    "        ])\n",
    "    \n",
    "    # Transform the data\n",
    "    X = preprocessor.fit_transform(df[features])\n",
    "    \n",
    "    # Store preprocessor for new user input\n",
    "    global user_preprocessor \n",
    "    user_preprocessor = preprocessor\n",
    "    \n",
    "    return cosine_similarity(X)"
   ]
  },
  {
   "cell_type": "markdown",
   "id": "71733977",
   "metadata": {},
   "source": [
    "# Clean User Input"
   ]
  },
  {
   "cell_type": "code",
   "execution_count": 5,
   "id": "85d22407",
   "metadata": {},
   "outputs": [],
   "source": [
    "def clean_user_input(value, field_name):\n",
    "    \"\"\"Clean and standardize user input\"\"\"\n",
    "    value = str(value).strip()\n",
    "    \n",
    "    # Handle case variations for specific fields\n",
    "    if field_name in ['Gender', 'Sleep Type', 'Social Type', 'Okay with Smoking', 'Okay with Visitors']:\n",
    "        value = value.lower().capitalize()\n",
    "        if field_name == 'Okay with Smoking' and value == 'Yes':\n",
    "            value = 'Yes'  # Handle 'YEs' -> 'Yes'\n",
    "    \n",
    "    # Handle numeric fields\n",
    "    if field_name in ['Cleanliness Importance', 'Noise Tolerance']:\n",
    "        try:\n",
    "            value = int(value)\n",
    "            if value < 1 or value > 5:\n",
    "                print(f\"Warning: {field_name} should be between 1-5. Using 3 as default.\")\n",
    "                value = 3\n",
    "        except ValueError:\n",
    "            print(f\"Warning: Invalid number for {field_name}. Using 3 as default.\")\n",
    "            value = 3\n",
    "    \n",
    "    return value"
   ]
  },
  {
   "cell_type": "markdown",
   "id": "be274168",
   "metadata": {},
   "source": [
    "# Collect User Preferences"
   ]
  },
  {
   "cell_type": "code",
   "execution_count": 6,
   "id": "3cad435f",
   "metadata": {},
   "outputs": [],
   "source": [
    "def get_user_input():\n",
    "    print(\"\\nPlease enter your roommate preferences:\")\n",
    "    user_data = {\n",
    "        'Name': ['User_Input'],\n",
    "        'Gender': clean_user_input(input(\"Gender (Male/Female/Prefer not to say): \"), 'Gender'),\n",
    "        'Program of Study': input(\"Program of Study (e.g., B.Tech CSE): \").upper(),\n",
    "        'Sleep Type': clean_user_input(input(\"Sleep Type (Early Bird/Night Owl): \"), 'Sleep Type'),\n",
    "        'Cleanliness Importance': clean_user_input(input(\"Cleanliness Importance (1-5, where 5 is most important): \"), 'Cleanliness Importance'),\n",
    "        'Social Type': clean_user_input(input(\"Social Type (Introverted/Extroverted/Ambiverted): \"), 'Social Type'),\n",
    "        'Okay with Smoking': clean_user_input(input(\"Okay with Smoking? (Yes/No/Maybe): \"), 'Okay with Smoking'),\n",
    "        'Okay with Visitors': clean_user_input(input(\"Okay with Visitors? (Yes/No/Maybe): \"), 'Okay with Visitors'),\n",
    "        'Noise Tolerance': clean_user_input(input(\"Noise Tolerance (1-5, where 1 is least tolerant): \"), 'Noise Tolerance'),\n",
    "        'Annoying Habit': input(\"Your annoying habit (e.g., Messy room, Loud music, etc.): \").title()\n",
    "    }\n",
    "    return pd.DataFrame(user_data)"
   ]
  },
  {
   "cell_type": "markdown",
   "id": "fa61d163",
   "metadata": {},
   "source": [
    "# Find Compatible Roommates"
   ]
  },
  {
   "cell_type": "code",
   "execution_count": 7,
   "id": "cda07653",
   "metadata": {},
   "outputs": [],
   "source": [
    "def find_compatible_roommates(df, similarity_matrix, user_df=None, student_name=None, n=5, min_score=0.5):\n",
    "    if user_df is not None:\n",
    "        # Process user input along with existing data\n",
    "        user_df['Smoking_Num'] = user_df['Okay with Smoking'].map({'Yes': 1, 'Maybe': 0.5, 'No': 0})\n",
    "        user_df['Visitors_Num'] = user_df['Okay with Visitors'].map({'Yes': 1, 'Maybe': 0.5, 'No': 0})\n",
    "        \n",
    "        # Transform user input using the preprocessor\n",
    "        features = ['Sleep Type', 'Cleanliness Importance', 'Social Type', \n",
    "                   'Smoking_Num', 'Visitors_Num', 'Noise Tolerance', 'Annoying Habit']\n",
    "        user_X = user_preprocessor.transform(user_df[features])\n",
    "        \n",
    "        # Transform original data\n",
    "        df['Smoking_Num'] = df['Okay with Smoking'].map({'Yes': 1, 'Maybe': 0.5, 'No': 0})\n",
    "        df['Visitors_Num'] = df['Okay with Visitors'].map({'Yes': 1, 'Maybe': 0.5, 'No': 0})\n",
    "        X = user_preprocessor.transform(df[features])\n",
    "        \n",
    "        # Calculate similarity between user and all students\n",
    "        user_similarity = cosine_similarity(user_X, X)\n",
    "        sim_scores = list(enumerate(user_similarity[0]))  # Get first (and only) row\n",
    "    else:\n",
    "        # Original functionality for student-student matching\n",
    "        try:\n",
    "            student_idx = df[df['Name'] == student_name].index[0]\n",
    "            sim_scores = list(enumerate(similarity_matrix[student_idx]))\n",
    "        except IndexError:\n",
    "            print(f\"Student {student_name} not found in dataset\")\n",
    "            return pd.DataFrame()\n",
    "    \n",
    "    # Filter by minimum score\n",
    "    filtered_scores = [(i, score) for i, score in sim_scores if score >= min_score]\n",
    "    \n",
    "    # Sort by similarity score (descending)\n",
    "    filtered_scores = sorted(filtered_scores, key=lambda x: x[1], reverse=True)\n",
    "    \n",
    "    # Get top n matches\n",
    "    top_indices = [i[0] for i in filtered_scores[:n]]\n",
    "    top_scores = [i[1] for i in filtered_scores[:n]]\n",
    "    \n",
    "    # Get student details for matches\n",
    "    matches = df.iloc[top_indices].copy()\n",
    "    matches['Compatibility_Score'] = top_scores\n",
    "    matches['Match_Percentage'] = matches['Compatibility_Score'] * 100\n",
    "    \n",
    "    # Select relevant columns to display\n",
    "    display_columns = ['Name', 'Gender', 'Program of Study', 'Sleep Type', \n",
    "                      'Cleanliness Importance', 'Social Type', 'Match_Percentage']\n",
    "    \n",
    "    return matches[display_columns]"
   ]
  },
  {
   "cell_type": "markdown",
   "id": "395afa19",
   "metadata": {},
   "source": [
    "# Main Program"
   ]
  },
  {
   "cell_type": "code",
   "execution_count": 8,
   "id": "fc3e81a9",
   "metadata": {},
   "outputs": [
    {
     "name": "stdout",
     "output_type": "stream",
     "text": [
      "=== Roommate Compatibility Predictor ===\n",
      "Choose an option:\n",
      "1. Find matches for an existing student\n",
      "2. Enter your own profile to find matches\n",
      "\n",
      "Please enter your roommate preferences:\n",
      "\n",
      "Finding compatible roommates for you...\n",
      "\n",
      "Your Top Compatible Roommates:\n",
      "       Name            Gender Program of Study Sleep Type  Cleanliness Importance Social Type  Match_Percentage\n",
      " Student_45 Prefer not to say        B.Tech ME  Night Owl                       5 Introverted         76.121893\n",
      " Student_88            Female       B.Tech ECE Early Bird                       5 Introverted         76.121893\n",
      "Student_109              Male       B.Tech CSE Early Bird                       5 Introverted         75.592895\n",
      " Student_66              Male       B.Tech ECE Early Bird                       4 Introverted         74.466871\n",
      " Student_92            Female       B.Tech CSE Early Bird                       5 Introverted         74.466871\n",
      "\n",
      "Similarity Matrix (First 5x5):\n",
      " [[1.         0.32732684 0.38888889 0.22792115 0.47140452]\n",
      " [0.32732684 1.         0.94561086 0.5471012  0.6172134 ]\n",
      " [0.38888889 0.94561086 1.         0.50649145 0.68091764]\n",
      " [0.22792115 0.5471012  0.50649145 1.         0.72524067]\n",
      " [0.47140452 0.6172134  0.68091764 0.72524067 1.        ]]\n"
     ]
    }
   ],
   "source": [
    "def main():\n",
    "    # Define your filename here\n",
    "    data_filename = \"roommate_compatibility_dataset.csv\"\n",
    "    \n",
    "    try:\n",
    "        # Load data\n",
    "        df = load_data(data_filename)\n",
    "        similarity_matrix = prepare_similarity_matrix(df)\n",
    "        \n",
    "        print(\"=== Roommate Compatibility Predictor ===\")\n",
    "        print(\"Choose an option:\")\n",
    "        print(\"1. Find matches for an existing student\")\n",
    "        print(\"2. Enter your own profile to find matches\")\n",
    "        \n",
    "        choice = input(\"Enter your choice (1 or 2): \").strip()\n",
    "        \n",
    "        if choice == '1':\n",
    "            student_name = input(\"Enter student name (e.g., Student_1): \").strip()\n",
    "            print(f\"\\nTop 5 compatible roommates for {student_name}:\")\n",
    "            matches = find_compatible_roommates(df, similarity_matrix, student_name=student_name)\n",
    "            print(matches.to_string(index=False))\n",
    "        elif choice == '2':\n",
    "            user_df = get_user_input()\n",
    "            print(\"\\nFinding compatible roommates for you...\")\n",
    "            matches = find_compatible_roommates(df, similarity_matrix, user_df=user_df)\n",
    "            if not matches.empty:\n",
    "                print(\"\\nYour Top Compatible Roommates:\")\n",
    "                print(matches.to_string(index=False))\n",
    "            else:\n",
    "                print(\"No compatible roommates found with the current criteria.\")\n",
    "        else:\n",
    "            print(\"Invalid choice. Please enter 1 or 2.\")\n",
    "    except FileNotFoundError:\n",
    "        print(f\"Error: Could not find data file '{data_filename}'. Please make sure it exists.\")\n",
    "    except Exception as e:\n",
    "        print(f\"An error occurred: {str(e)}\")\n",
    "\n",
    "    print(\"\\nSimilarity Matrix (First 5x5):\\n\", similarity_matrix[:5, :5])  # Preview top 5x5\n",
    "if __name__ == \"__main__\":\n",
    "    main()"
   ]
  }
 ],
 "metadata": {
  "kernelspec": {
   "display_name": "Python 3",
   "language": "python",
   "name": "python3"
  },
  "language_info": {
   "codemirror_mode": {
    "name": "ipython",
    "version": 3
   },
   "file_extension": ".py",
   "mimetype": "text/x-python",
   "name": "python",
   "nbconvert_exporter": "python",
   "pygments_lexer": "ipython3",
   "version": "3.11.9"
  }
 },
 "nbformat": 4,
 "nbformat_minor": 5
}
